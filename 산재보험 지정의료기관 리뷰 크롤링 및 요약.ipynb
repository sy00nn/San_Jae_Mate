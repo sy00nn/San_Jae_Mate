{
 "cells": [
  {
   "cell_type": "code",
   "execution_count": 24,
   "id": "6ca6d33a-1dde-4c6b-843e-fc3b7a847907",
   "metadata": {},
   "outputs": [],
   "source": [
    "import time\n",
    "import pandas as pd\n",
    "import warnings\n",
    "warnings.filterwarnings('ignore')"
   ]
  },
  {
   "cell_type": "code",
   "execution_count": 44,
   "id": "2f348250-7417-4019-9216-c13831ac20f1",
   "metadata": {},
   "outputs": [],
   "source": [
    "from selenium import webdriver  # 동적크롤링\n",
    "from webdriver_manager.chrome import ChromeDriverManager\n",
    "from selenium.webdriver.common.keys import Keys # Enter\n",
    "from selenium.webdriver.common.by import By\n",
    "from bs4 import BeautifulSoup\n",
    "from selenium.webdriver.chrome.service import Service\n",
    "from selenium.webdriver.chrome.options import Options\n",
    "from selenium.common.exceptions import NoSuchElementException\n",
    "\n",
    "from selenium.webdriver.support.ui import WebDriverWait\n",
    "from selenium.webdriver.support import expected_conditions as EC\n",
    "from selenium.webdriver.common.action_chains import ActionChains"
   ]
  },
  {
   "cell_type": "code",
   "execution_count": 45,
   "id": "9bd8db94-ec40-42ce-95d9-c30e90ff1a10",
   "metadata": {},
   "outputs": [
    {
     "data": {
      "text/html": [
       "<div>\n",
       "<style scoped>\n",
       "    .dataframe tbody tr th:only-of-type {\n",
       "        vertical-align: middle;\n",
       "    }\n",
       "\n",
       "    .dataframe tbody tr th {\n",
       "        vertical-align: top;\n",
       "    }\n",
       "\n",
       "    .dataframe thead th {\n",
       "        text-align: right;\n",
       "    }\n",
       "</style>\n",
       "<table border=\"1\" class=\"dataframe\">\n",
       "  <thead>\n",
       "    <tr style=\"text-align: right;\">\n",
       "      <th></th>\n",
       "      <th>연도</th>\n",
       "      <th>의료기관기호</th>\n",
       "      <th>의료기관명</th>\n",
       "      <th>우편번호</th>\n",
       "      <th>주소</th>\n",
       "      <th>전화번호</th>\n",
       "    </tr>\n",
       "  </thead>\n",
       "  <tbody>\n",
       "    <tr>\n",
       "      <th>0</th>\n",
       "      <td>2022</td>\n",
       "      <td>1000001</td>\n",
       "      <td>연세대학교의과대학강남세브란스병원</td>\n",
       "      <td>6273</td>\n",
       "      <td>서울 강남구 언주로 211 (도곡동)</td>\n",
       "      <td>02-2019-2163</td>\n",
       "    </tr>\n",
       "    <tr>\n",
       "      <th>1</th>\n",
       "      <td>2022</td>\n",
       "      <td>1000050</td>\n",
       "      <td>의료법인 제일병원</td>\n",
       "      <td>6664</td>\n",
       "      <td>서울 서초구 서초대로 116 (방배동)</td>\n",
       "      <td>02-586-5557</td>\n",
       "    </tr>\n",
       "    <tr>\n",
       "      <th>2</th>\n",
       "      <td>2022</td>\n",
       "      <td>1000072</td>\n",
       "      <td>예루살렘정형외과</td>\n",
       "      <td>6737</td>\n",
       "      <td>서울 서초구 남부순환로350길 33 (양재동)</td>\n",
       "      <td>02-575-0122-0</td>\n",
       "    </tr>\n",
       "    <tr>\n",
       "      <th>3</th>\n",
       "      <td>2022</td>\n",
       "      <td>1000116</td>\n",
       "      <td>가톨릭정형외과의원</td>\n",
       "      <td>6109</td>\n",
       "      <td>서울 강남구 언주로 601 3층 (논현동, 파크랜드빌딩)</td>\n",
       "      <td>02-554-7575</td>\n",
       "    </tr>\n",
       "    <tr>\n",
       "      <th>4</th>\n",
       "      <td>2022</td>\n",
       "      <td>1000125</td>\n",
       "      <td>안정형외과</td>\n",
       "      <td>6021</td>\n",
       "      <td>서울 강남구 도산대로 303 (신사동)</td>\n",
       "      <td>02-3444-7277</td>\n",
       "    </tr>\n",
       "    <tr>\n",
       "      <th>5</th>\n",
       "      <td>2022</td>\n",
       "      <td>1000147</td>\n",
       "      <td>광동한방병원</td>\n",
       "      <td>6170</td>\n",
       "      <td>서울 강남구 봉은사로 612 (삼성동)</td>\n",
       "      <td>02-2222-4883</td>\n",
       "    </tr>\n",
       "    <tr>\n",
       "      <th>6</th>\n",
       "      <td>2022</td>\n",
       "      <td>1000158</td>\n",
       "      <td>한양대학교병원</td>\n",
       "      <td>4763</td>\n",
       "      <td>서울 성동구 왕십리로 222-1 (사근동, 한양대학부속병원)</td>\n",
       "      <td>02-2290-9096</td>\n",
       "    </tr>\n",
       "    <tr>\n",
       "      <th>7</th>\n",
       "      <td>2022</td>\n",
       "      <td>1000159</td>\n",
       "      <td>강동성심병원</td>\n",
       "      <td>5355</td>\n",
       "      <td>서울 강동구 성안로 150 (길동)</td>\n",
       "      <td>02-2224-2127</td>\n",
       "    </tr>\n",
       "    <tr>\n",
       "      <th>8</th>\n",
       "      <td>2022</td>\n",
       "      <td>1000161</td>\n",
       "      <td>국립경찰병원</td>\n",
       "      <td>5715</td>\n",
       "      <td>서울 송파구 송이로 123 (가락동)</td>\n",
       "      <td>02-3400-1160</td>\n",
       "    </tr>\n",
       "    <tr>\n",
       "      <th>9</th>\n",
       "      <td>2022</td>\n",
       "      <td>1000168</td>\n",
       "      <td>건국대학교병원</td>\n",
       "      <td>5030</td>\n",
       "      <td>서울특별시 광진구 능동로 120-1 (화양동, 건국대학교병원)</td>\n",
       "      <td>02-2030-7160</td>\n",
       "    </tr>\n",
       "  </tbody>\n",
       "</table>\n",
       "</div>"
      ],
      "text/plain": [
       "     연도   의료기관기호              의료기관명  우편번호                                  주소  \\\n",
       "0  2022  1000001  연세대학교의과대학강남세브란스병원  6273                서울 강남구 언주로 211 (도곡동)   \n",
       "1  2022  1000050          의료법인 제일병원  6664               서울 서초구 서초대로 116 (방배동)   \n",
       "2  2022  1000072           예루살렘정형외과  6737           서울 서초구 남부순환로350길 33 (양재동)   \n",
       "3  2022  1000116          가톨릭정형외과의원  6109     서울 강남구 언주로 601 3층 (논현동, 파크랜드빌딩)   \n",
       "4  2022  1000125              안정형외과  6021               서울 강남구 도산대로 303 (신사동)   \n",
       "5  2022  1000147             광동한방병원  6170               서울 강남구 봉은사로 612 (삼성동)   \n",
       "6  2022  1000158            한양대학교병원  4763   서울 성동구 왕십리로 222-1 (사근동, 한양대학부속병원)   \n",
       "7  2022  1000159             강동성심병원  5355                 서울 강동구 성안로 150 (길동)   \n",
       "8  2022  1000161             국립경찰병원  5715                서울 송파구 송이로 123 (가락동)   \n",
       "9  2022  1000168            건국대학교병원  5030  서울특별시 광진구 능동로 120-1 (화양동, 건국대학교병원)   \n",
       "\n",
       "            전화번호  \n",
       "0   02-2019-2163  \n",
       "1    02-586-5557  \n",
       "2  02-575-0122-0  \n",
       "3    02-554-7575  \n",
       "4   02-3444-7277  \n",
       "5   02-2222-4883  \n",
       "6   02-2290-9096  \n",
       "7   02-2224-2127  \n",
       "8   02-3400-1160  \n",
       "9   02-2030-7160  "
      ]
     },
     "execution_count": 45,
     "metadata": {},
     "output_type": "execute_result"
    }
   ],
   "source": [
    "df = pd.read_csv('근로복지공단_산재보험 지정의료기관 현황정보_20221231.csv', encoding='cp949')\n",
    "df.head(10)"
   ]
  },
  {
   "cell_type": "code",
   "execution_count": 64,
   "id": "10173b0d-ff41-4382-af8e-fdfc588a074e",
   "metadata": {},
   "outputs": [
    {
     "data": {
      "text/plain": [
       "'중앙대학교 병원'"
      ]
     },
     "execution_count": 64,
     "metadata": {},
     "output_type": "execute_result"
    }
   ],
   "source": [
    "df['의료기관명'][1304]"
   ]
  },
  {
   "cell_type": "code",
   "execution_count": 65,
   "id": "642bd1b6-fe02-4fd6-8dd0-55b5b5b7779d",
   "metadata": {},
   "outputs": [
    {
     "name": "stdin",
     "output_type": "stream",
     "text": [
      " 1304\n"
     ]
    }
   ],
   "source": [
    "hospital_idx = int(input())"
   ]
  },
  {
   "cell_type": "code",
   "execution_count": 66,
   "id": "b5752b43-a04e-4db4-a334-cf06d56ab628",
   "metadata": {},
   "outputs": [],
   "source": [
    "# 카카오 맵으로 이동\n",
    "url = \"https://map.kakao.com/\"\n",
    "chrome_driver_path = 'C:/Users/kellykim/Downloads/chromedriver-win64/chromedriver.exe'\n",
    "service = Service(chrome_driver_path)\n",
    "options = Options()\n",
    "options.add_argument('--headless')  # 브라우저를 숨김 모드로 실행\n",
    "options.add_argument('--no-sandbox')\n",
    "options.add_argument('--disable-dev-shm-usage')\n",
    "driver = webdriver.Chrome(service=service, options=options)\n",
    "driver.get(url)"
   ]
  },
  {
   "cell_type": "code",
   "execution_count": 67,
   "id": "1453fbbb-42dd-4d43-9ce3-1a377fce6102",
   "metadata": {},
   "outputs": [],
   "source": [
    "searchloc = df['의료기관명'][hospital_idx] + ' ' + ' '.join(list(df['주소'][hospital_idx].split())[:2])\n",
    "\n",
    "search_area = driver.find_element(By.XPATH, r'//*[@id=\"search.keyword.query\"]') # 카카오맵 검색창\n",
    "search_area.send_keys(searchloc)  # 검색어 전달\n",
    "driver.find_element(By.XPATH, r'//*[@id=\"search.keyword.submit\"]').send_keys(Keys.ENTER)  # 돋보기 클릭\n",
    "\n",
    "time.sleep(5)\n",
    "\n",
    "driver.find_element(By.XPATH, r'//*[@id=\"info.search.place.list\"]/li['+str(1)+']/div[5]/div[4]/a[1]').send_keys(Keys.ENTER)"
   ]
  },
  {
   "cell_type": "code",
   "execution_count": 68,
   "id": "321ca5e1-6451-4d54-9ddf-bbc43fcf6a06",
   "metadata": {},
   "outputs": [],
   "source": [
    "html = driver.page_source\n",
    "soup = BeautifulSoup(html, 'html.parser')\n",
    "room = soup.select_one('.placelist > .PlaceItem') # 제일 상단의 장소 정보를 가져옴"
   ]
  },
  {
   "cell_type": "code",
   "execution_count": 69,
   "id": "5207dd94-e203-4608-945d-7fd0f8ee6b41",
   "metadata": {},
   "outputs": [],
   "source": [
    "registered = 1 # 카카오맵에 의료기관 미등록\n",
    "review_exist = 1 # 후기 개수 0개 or 후기 미제공"
   ]
  },
  {
   "cell_type": "code",
   "execution_count": 70,
   "id": "a98ded5c-9f6d-46ba-aada-a8cc5cc4c9b5",
   "metadata": {},
   "outputs": [],
   "source": [
    "# 의료기관 명\n",
    "try:\n",
    "    name = room.select('.head_item > .tit_name > .link_name')[0].text\n",
    "except AttributeError:\n",
    "    name = searchloc\n",
    "    registered = 0 # 카카오맵에 등록되지 않은 의료기관임\n",
    "    review_exist = 0"
   ]
  },
  {
   "cell_type": "code",
   "execution_count": 71,
   "id": "79e40650-be8a-414b-9852-11a2a033571c",
   "metadata": {},
   "outputs": [
    {
     "data": {
      "text/plain": [
       "'중앙대학교병원'"
      ]
     },
     "execution_count": 71,
     "metadata": {},
     "output_type": "execute_result"
    }
   ],
   "source": [
    "name"
   ]
  },
  {
   "cell_type": "code",
   "execution_count": 72,
   "id": "63dc26ae-4883-465c-981a-46cbbb15f415",
   "metadata": {},
   "outputs": [],
   "source": [
    "# 의료기관 주소\n",
    "if registered:\n",
    "    addr = room.select('.addr > p')[0].text\n",
    "else:\n",
    "    addr = df['주소'][hospital_idx]"
   ]
  },
  {
   "cell_type": "code",
   "execution_count": 73,
   "id": "b1564f81-0499-4d67-adf1-60aaf7899d60",
   "metadata": {},
   "outputs": [
    {
     "data": {
      "text/plain": [
       "'서울 동작구 흑석로 102'"
      ]
     },
     "execution_count": 73,
     "metadata": {},
     "output_type": "execute_result"
    }
   ],
   "source": [
    "addr"
   ]
  },
  {
   "cell_type": "code",
   "execution_count": 74,
   "id": "175914b1-44eb-40b6-ada3-23159c80f598",
   "metadata": {},
   "outputs": [],
   "source": [
    "# 의료기관 평점\n",
    "if registered:\n",
    "    score = room.select('.rating > .score > em')[0].text\n",
    "    review_cnt = room.select('.rating > a > em')[0].text\n",
    "    if (score == '' or not int(review_cnt)): #후기 미제공 or 후기 아직 없음\n",
    "        review_exist = 0\n",
    "        score = \"X\"\n",
    "else:\n",
    "    score = \"X\" #카카오맵에 미등록된 의료기관"
   ]
  },
  {
   "cell_type": "code",
   "execution_count": 75,
   "id": "08cbcd63-e6ff-40ab-b325-957052db7463",
   "metadata": {},
   "outputs": [
    {
     "data": {
      "text/plain": [
       "'2.2'"
      ]
     },
     "execution_count": 75,
     "metadata": {},
     "output_type": "execute_result"
    }
   ],
   "source": [
    "score"
   ]
  },
  {
   "cell_type": "code",
   "execution_count": 76,
   "id": "5d1e1a1b-d575-488c-8896-9e83df73d271",
   "metadata": {},
   "outputs": [],
   "source": [
    "# 리뷰 수집 및 ChatGPT API를 활용한 요약\n",
    "def extract_review():\n",
    "    html = driver.page_source\n",
    "    soup = BeautifulSoup(html, 'html.parser')\n",
    "    \n",
    "    # 후기 목록 찾기\n",
    "    review_lists = soup.select('.list_evaluation > li')\n",
    "    \n",
    "    count = 0\n",
    "    rev = []\n",
    "\n",
    "    if len(review_lists) != 0:\n",
    "        for review in review_lists:\n",
    "            comment = review.select('.txt_comment > span')[0].text  # 리뷰\n",
    "            if len(comment) != 0:\n",
    "                rev.append(comment)\n",
    "    \n",
    "    # 다시 검색 탭으로 전환\n",
    "    driver.close()\n",
    "    driver.switch_to.window(driver.window_handles[0])\n",
    "    time.sleep(2)\n",
    "    \n",
    "    return rev\n",
    "    \n",
    "if review_exist:\n",
    "    # '상세보기'로 이동\n",
    "    driver.find_element(By.XPATH, r'//*[@id=\"info.search.place.list\"]/li['+str(1)+']/div[5]/div[4]/a[1]').send_keys(Keys.ENTER)\n",
    "    driver.switch_to.window(driver.window_handles[-1])\n",
    "    time.sleep(2)\n",
    "    # '리뷰 더보기' 최대 5번 클릭 하기\n",
    "    for i in range(5):\n",
    "        try:\n",
    "            more_rvs = driver.find_element(By.CLASS_NAME, 'txt_more') # 후기 더보기 탭\n",
    "            more_rvs.click()\n",
    "            time.sleep(1)\n",
    "        except NoSuchElementException:\n",
    "            pass\n",
    "    \n",
    "    rev = extract_review()  # 리뷰 추출 함수 실행\n",
    "else:\n",
    "    rev = \"X\""
   ]
  },
  {
   "cell_type": "code",
   "execution_count": 77,
   "id": "34baf879-9b33-40af-9f91-bba40798b365",
   "metadata": {},
   "outputs": [
    {
     "data": {
      "text/plain": [
       "['살다살다  대학 병원 후기를 적게 될 줄 몰랐는데중앙대병원 전체적으로 간호선생님들과 수납처 의사쌤까지 다 너무 친절하다.진짜 뭔가 배려심도 기본적으로 가지고 계신게 느껴져서기분좋게 원활하게 진료 잘 받았어요.시기가 시기인지라 다른 병원은 예약도 너무 어려웠는데중앙대 병원 관계된 모든 분들께 감사드립니다.(호흡기알레르기 내과, 영상의학과 다녀옴)',\n",
       " '시험관시술 의료사고 기사읽고 왔습니다',\n",
       " '약물사고로 여태 치유안되는 몸고생이며 타원에서 엄청난관련치료비 지출이며 엄청난 휴유증을 안긴 곳.사소하게는 다른 병원서 안아프게 살짝 피부에 하는 항생제 테스트도 아프게 쑤셔 박듯 한후(간호사왈 다들 아파한다나...잘못해서 그런 것도 모르는듯..) 신경 건드려 오랫동안 손이 저림.아무튼 개인적으로 크고 작은 의료사고가 있던 병원. 실력도 의문ㅡ다소 드문 병변 하나에 대한 지식자체가 아예 없었음(최악은 본인들 무지를 가지고 그런 증상의 병변은 없다느니 환자를 이상한 사람 취급해버림. 나중 의료백과 사전만 뒤져봐도 나오던걸). 당연히 후에  타원에서 진단 받고 이 병원은 다신 안감',\n",
       " '혈액종양내과오충렬교수님 항상감사드립니다 저희친정어머님 암때문에불안하고 항상우울해하셨는데웃는얼굴로 인사해주시고 손잡아주시고 따뜻한말씀한마디에 저희어머님 힘든투병생활동안 기운을얻으셨습니다연로하시고 담낭암4기라 결국 돌아가셨지만 입원실에서 자신의마지막을 직감하셨는지 오충렬교수님께감사인사드려야하신다며제게 다짐을시키셨습니다감사한마음을전할곳을 알아보니 김영란법에저촉됀다하여 선물도드리지못하고 바쁜진료시간에 인사드리는것은 다른암환우분의소중란시간을뺏는것같아 이곳에 글을올립니다오충렬교수님과혈액종양내과 귀엽고예쁘신(외모뿐아니라손녀처럼살잘대해주셨습니다)진료간호사님(진료소통을위해 교수님의의사를 전달해주신고마운분인데 성함을 잊었습니다 )과 입원실상주간호사님들 (돌아가시기전6일의입원시간동안 많이애써주셨습니다)머리숙여감사드립니다 앞으로도 길을지나며병원을볼때마다 감사한기억이날것같습니다감사했습니다',\n",
       " 'HIV 익명검사 안됨. 전체적으로 정신이 하나도없고 체계가 60년대 보건소 수준으로 열악함. 대학 시설부터 수준까지 정말 한숨만 나온다. 밑에 수두룩한 의료사고 후기들을 보면 운이 없었다라고 말하기도 민망한 수준. 어째서 대학서열이 서성한 중경외시 인지 이해가 안감. 국숭세중 으로 해줘도 감지덕지인곳',\n",
       " '이비인후과;; 무슨 점심시간이 13시 20분인건 알겠는데 적어도 먼저 온 사람들은 종이에 적어둘 수 있게 하던가사람들 다 새치기 하려고 기다리는데 알면서 그러네종이 한 장 쓰는게 어려운가? 먼저 온 사람은 바보되는 방식이네요.12시부터 점심도 안 먹도 앞에서 졸면서 기다리는거 봤으면서1층 접수먼저 해야하는건 왜 13시 20분 다 되어서 알려줘서후순위로 밀리는지 사람 호구만드시네',\n",
       " '절대 가지마세요 제발 그냥 가면 안됨',\n",
       " '와... 리얼 ㅆㄹㄱ😨',\n",
       " '여기가 엉뚱한 정자로 시술한 의사 감싸기, 나몰라라 책임 회피 및 거짓말, 피해자부부에게 천만원 합의 제시, 남편이 자살시도하게 만든 중앙대병원인가요?',\n",
       " '병원이 젊은 교수들로 운영되는것을자랑으로 여기고 임용을 하는지는모르겠으나 실력있고 경험많은 멘토가 없어서인지실력이 현저히 떨어지는 사람을 교수로채용해서 환자를 보게 한다는게 환자에겐 너무나도무모한시스템이 아닐까 사실 무섭게 느껴진다',\n",
       " '의료원 직원들 일도 못하고 네가지 없음',\n",
       " '선생님들도 친절하고 진료 잘 받고 왔습니다.',\n",
       " '예약관리 전혀 안됨.사전 예약을 미리하고 와도 상황에따라 1시간이상 대기해야하고 얼마나 더 기다려야하는지 예상대기시간 안내도 없음.병원 운영 개선 시급.',\n",
       " '응급진료센터 방문했는데 두번 물어보니 불친절하게 짜증내고 진료보면서 한숨만 푹푹 내쉬고 뭐하는태도 인지 그리고 인턴이라그런가 피검사하고 링거하는데 왜케 어설픈지 환장한다. 여기 있는 댓글 팩트다',\n",
       " '화장실좀 사용하려 했더니 외부인 출입금지?...병훤 앞에 쌋다.',\n",
       " '의사선생님들 친절하시고 자세한 설명해주셨어요',\n",
       " '생사를 다투는 순간이 아니면 절대 가지 않을 병원. 간호사들의 환자 뒷담화는 중대 병원의 문화이다',\n",
       " '안과 김지택 교수님 항상 감사합니다. 덕분에 눈 건강 유지하면서 살고 있습니다!',\n",
       " '여기 댓글의 별 한개 (그나마도 선택의 여지가 없어 어쩔 수 없이 한 개) 준 분들 리뷰 사실입니다. 제가 중대 병원 초기(생긴 지 얼마 안 됐을 때)에 이미, 응급실에서 말도 안되는 오진을 경험한 후 절대 안 가는 병원이에요. 십년 넘게 지났고, 저녁 시간에 어쩔 수 없이 사고가 나서 방문했는데 오진하는 건 여전하더군요. 더 최악인 건, 안 헤도 되는 검사를 쓸 데 없이 한다는 거에요. 의사가 내린 오진 때문에! 결국 그 검사비는 환자몫…하… 절대 가지 마세요 중대 병원. 그중에 최악은 응급실.',\n",
       " '외과에 방문했는데 이렇게 불친절한 의사는 처음이네요 아파서 가니까 왜 왔냐고 그래서 어쩌라는거냐고 하는데 이게 의사 입에서 나올 얘긴가요? 다시는 방문하고 싶지 않습니다',\n",
       " '다 너무 불친절하고 재방문의사 없음전에 아빠 입원했는데 다 어설프고 불친절하고.. 돌아가면서 혈관에 바늘 꽂다가 실수하는 탓에 몇번을 다시 꽂고 피도 흘렸었어요피 튀고 흐르고 급하게 닦은 사진 생각나서 올림',\n",
       " '지인 응급실 행으로 첨 방문. 채굴장같은 공사소음과 직원들 어수선함에 실망. 이비인후과로 옮겼는데 시설이나 시스템 낙후되보여 실망. 그러나 의사분들 친절하게 설명해가며 오랜시간 꼼꼼히 치료해주고 걱정 덜어줌. 간호사나 원무직원분들까지 인간적으로 모두 친절.']"
      ]
     },
     "execution_count": 77,
     "metadata": {},
     "output_type": "execute_result"
    }
   ],
   "source": [
    "rev"
   ]
  },
  {
   "cell_type": "code",
   "execution_count": 78,
   "id": "1045dfef-a097-4aad-bc81-5fc2151de037",
   "metadata": {},
   "outputs": [],
   "source": [
    "# 참고한 사이트 : https://dduniverse.tistory.com/entry/%EC%B9%B4%EC%B9%B4%EC%98%A4%EB%A7%B5-%EB%A6%AC%EB%B7%B0-%ED%81%AC%EB%A1%A4%EB%A7%81-%ED%95%98%EA%B8%B0-with-Selenium-BeautifulSoup"
   ]
  },
  {
   "cell_type": "code",
   "execution_count": 79,
   "id": "67432876-b55f-4e26-9381-a3b7d7881513",
   "metadata": {},
   "outputs": [],
   "source": [
    "from openai import OpenAI\n",
    " \n",
    "# OPENAI_YOUR_KEY에 open ai에서 발급받은 api key를 등록합니다.\n",
    "# 사용 모델을 설정합니다. chat GPT는 gpt-3.5-turbo를 사용합니다.\n",
    "MODEL = \"gpt-3.5-turbo\"\n",
    "USER_INPUT_MSG = \"다음의 하나 이상의 병원 리뷰를 요약해서 종합한 하나의 리뷰를 출력해줘. 리뷰 요약을 할 때 주체는 특정인이 아닌 제3자인 것처럼 해줘. 서술어 스타일은 '~입니다'나 '~합니다'와 같이 해줘. 시작은 '\" + name + \"(병원이름)은'으로 설정해주고 250자 내외로 알려줘. \" + str(rev)\n",
    "\n",
    "# OpenAI API 키 설정\n",
    "client = OpenAI(api_key=OPENAI_YOUR_KEY)  # 사용자의 API 키로 대체해야 함\n",
    "if review_exist:\n",
    "    response = client.chat.completions.create(\n",
    "        model = MODEL,\n",
    "        messages = [{\"role\" : \"user\", \"content\" : USER_INPUT_MSG}]\n",
    "    )\n",
    "    review_summary = response.choices[0].message.content\n",
    "else:\n",
    "    review_summary = \"X\""
   ]
  },
  {
   "cell_type": "code",
   "execution_count": 80,
   "id": "88593e73-4477-499c-b792-9b005e0e0853",
   "metadata": {},
   "outputs": [
    {
     "name": "stdout",
     "output_type": "stream",
     "text": [
      "중앙대학교병원은 전체적으로 간호선생님들과 수납처 의사들이 매우 친절하다. 예약이 어려운 다른 병원과는 달리 원활하게 진료를 받을 수 있어 좋다고 한다. 그러나 다른 환자들은 의료사고로 인해 치유되지 않거나 피해를 입은 경험을 공유하고 있다. 또한 예약관리가 잘 되지 않는 등 운영에 개선이 필요한 부분도 있다. 전반적으로 의료진은 친절하고 진료는 만족스러운 편이지만, 시설 및 시스템에는 개선이 필요한 부분이 있다고 평가되어진다.\n"
     ]
    }
   ],
   "source": [
    "print(review_summary)"
   ]
  }
 ],
 "metadata": {
  "kernelspec": {
   "display_name": "Python 3 (ipykernel)",
   "language": "python",
   "name": "python3"
  },
  "language_info": {
   "codemirror_mode": {
    "name": "ipython",
    "version": 3
   },
   "file_extension": ".py",
   "mimetype": "text/x-python",
   "name": "python",
   "nbconvert_exporter": "python",
   "pygments_lexer": "ipython3",
   "version": "3.9.12"
  },
  "toc": {
   "base_numbering": 1,
   "nav_menu": {},
   "number_sections": true,
   "sideBar": true,
   "skip_h1_title": false,
   "title_cell": "Table of Contents",
   "title_sidebar": "Contents",
   "toc_cell": false,
   "toc_position": {},
   "toc_section_display": true,
   "toc_window_display": false
  }
 },
 "nbformat": 4,
 "nbformat_minor": 5
}
